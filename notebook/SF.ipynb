{
 "cells": [
  {
   "cell_type": "markdown",
   "metadata": {},
   "source": [
    "# SALESFORCE INTEGRATION"
   ]
  },
  {
   "cell_type": "markdown",
   "metadata": {},
   "source": [
    "## OAuth 2.0 JWT Bearer Flow for Server-to-Server Integration\n",
    "\n",
    "[Link Salesforce documentation](https://help.salesforce.com/articleView?id=sf.remoteaccess_oauth_jwt_flow.htm&type=5)\n",
    "\n",
    "Sometimes you want to authorize servers to access data without interactively logging in each time the servers exchange information. For these cases, you can use the OAuth 2.0 JSON Web Token (JWT) bearer flow. This flow uses a certificate to sign the JWT request and doesn’t require explicit user interaction. However, this flow does require prior approval of the client app.\n",
    "\n",
    "Settings:\n",
    "\n",
    "\n",
    "* **SF_SECRET_ISS** -The issuer must contain the OAuth client_id or the connected app for which you registered the certificate.\n",
    "\n",
    "* **SF_SECRET_AUD** - The audience identifies the authorization server as an intended audience. The authorization server must verify that it’s an intended audience for the token. Use the authorization server’s URL for the audience value: https://login.salesforce.com, https://test.salesforce.com, or https://site.force.com/customers if implementing for an Experience Cloud site.\n",
    "\n",
    "* **SF_SECRET_AUD** - The subject must contain the username of the user if implementing for an Experience Cloud site. For backward compatibility, you can use principal (prn) instead of subject (sub). If both are specified, prn is used.\n",
    "\n",
    "* **SF_SECRET_SUB** - The validity must be the expiration time of the assertion within 3 minutes, expressed as the number of seconds from 1970-01-01T0:0:0Z measured in UTC.\n"
   ]
  },
  {
   "cell_type": "code",
   "execution_count": null,
   "metadata": {},
   "outputs": [],
   "source": [
    "from __future__ import print_function\n",
    "from datetime import datetime, timedelta\n",
    "from base64 import (\n",
    "    b64encode,\n",
    "    b64decode,\n",
    ")\n",
    "\n",
    "from Crypto.Hash import SHA256\n",
    "from Crypto.Signature import PKCS1_v1_5\n",
    "from Crypto.PublicKey import RSA\n",
    "\n",
    "import requests\n",
    "import json\n",
    "import uuid\n",
    "import sys, base64, textwrap\n",
    "import jks\n",
    "import time\n",
    "import requests"
   ]
  },
  {
   "cell_type": "code",
   "execution_count": null,
   "metadata": {},
   "outputs": [],
   "source": [
    "url_salesforce = \"\"\n",
    "\n",
    "SF_JKS_FILE_PATH=\"../input/sf.jks\"\n",
    "SF_JKS_FILE_PHASE=\"\"\n",
    "\n",
    "SF_SECRET_ISS = \"\"\n",
    "SF_SECRET_AUD = \"\"\n",
    "SF_SECRET_SUB = \"\"\n",
    "SF_SECRET_EXP = str(int((datetime.now() + timedelta(hours=1)).timestamp()*1000))\n"
   ]
  },
  {
   "cell_type": "markdown",
   "metadata": {},
   "source": [
    "### Get Auth Token"
   ]
  },
  {
   "cell_type": "code",
   "execution_count": null,
   "metadata": {},
   "outputs": [],
   "source": [
    "def print_pem(der_bytes, type):\n",
    "    print(\"-----BEGIN %s-----\" % type)\n",
    "    print(\"\\r\\n\".join(textwrap.wrap(base64.urlsafe_b64encode(der_bytes).decode('ascii'), 64)))\n",
    "    print(\"-----END %s-----\" % type)\n",
    "\n",
    "def converter_base64(message):\n",
    "    message_bytes = message.encode('ascii')\n",
    "    base64_bytes = base64.urlsafe_b64encode(message_bytes)\n",
    "    base64_message = base64_bytes.decode('ascii')\n",
    "    return base64_message\n",
    "    \n",
    "    \n",
    "ks = jks.KeyStore.load(SF_JKS_FILE_PATH, SF_JKS_FILE_PHASE)\n",
    "\n",
    "for alias, pk in ks.private_keys.items():\n",
    "    print(\"Private key: %s\" % pk.alias)\n",
    "    if pk.algorithm_oid == jks.util.RSA_ENCRYPTION_OID:\n",
    "        rsa_private_key_base64 = base64.urlsafe_b64encode(pk.pkey).decode('ascii')\n",
    "        rsa_private_key = pk.pkey\n",
    "    else:\n",
    "        print_pem(pk.pkey_pkcs8, \"PRIVATE KEY\")\n",
    "\n",
    "sf_header = converter_base64('{\"alg\":\"RS256\"}')\n",
    "sf_payload_string= '{\"iss\": \"SF_SECRET_ISS\", \"sub\": \"SF_SECRET_SUB\", \"aud\": \"SF_SECRET_AUD\", \"exp\": \"SF_SECRET_EXP\"}'\n",
    "sf_payload_string = sf_payload_string.replace(\"SF_SECRET_ISS\", SF_SECRET_ISS)\n",
    "sf_payload_string = sf_payload_string.replace(\"SF_SECRET_SUB\", SF_SECRET_SUB)\n",
    "sf_payload_string = sf_payload_string.replace(\"SF_SECRET_AUD\", SF_SECRET_AUD)\n",
    "sf_payload_string = sf_payload_string.replace(\"SF_SECRET_EXP\", SF_SECRET_EXP)\n",
    "\n",
    "print(sf_payload_string)\n",
    "print('---------')\n",
    "sf_payload = converter_base64(sf_payload_string)\n",
    "\n",
    "token_sf = \"{}.{}\".format(sf_header, sf_payload)\n",
    "print(token_sf)\n",
    "print(sf_payload_string)\n",
    "\n",
    "# Load private key and sign messagez\n",
    "digest = SHA256.new()\n",
    "digest.update(token_sf.encode('utf-8'))\n",
    "private_key = RSA.importKey(rsa_private_key)\n",
    "signer = PKCS1_v1_5.new(private_key)\n",
    "sig = signer.sign(digest)\n",
    "\n",
    "token_sf_sign = \"{}.{}\".format(token_sf, base64.urlsafe_b64encode(sig).decode('ascii'))\n",
    "\n",
    "url = url_salesforce + \"/services/oauth2/token\"\n",
    "\n",
    "payload='grant_type=urn%3Aietf%3Aparams%3Aoauth%3Agrant-type%3Ajwt-bearer&assertion={}'.format(token_sf_sign)\n",
    "headers = {\n",
    "  'Content-Type': 'application/x-www-form-urlencoded',\n",
    "\n",
    "}\n",
    "\n",
    "response = requests.request(\"POST\", url, headers=headers, data=payload)\n",
    "\n",
    "print(response.text)\n",
    "sf_access_token = 'Bearer '+response.json()['access_token']\n",
    "print(sf_access_token)  \n"
   ]
  },
  {
   "cell_type": "code",
   "execution_count": null,
   "metadata": {},
   "outputs": [],
   "source": [
    "print(sf_access_token)"
   ]
  },
  {
   "cell_type": "markdown",
   "metadata": {},
   "source": [
    "### Invoke API"
   ]
  },
  {
   "cell_type": "code",
   "execution_count": null,
   "metadata": {},
   "outputs": [],
   "source": [
    "url = url_salesforce + \"/services/data/v50.0\"\n",
    "\n",
    "payload={}\n",
    "headers = {\n",
    "  'Content-Type': 'application/json',\n",
    "  'charset': 'UTF-8',\n",
    "  'Accept': 'application/json',\n",
    "  'Authorization': sf_access_token,\n",
    "  \n",
    "}\n",
    "\n",
    "response = requests.request(\"GET\", url, headers=headers, data=payload)\n",
    "\n",
    "print(json.dumps(response.json(), indent=2))"
   ]
  }
 ],
 "metadata": {
  "kernelspec": {
   "display_name": "Python 3",
   "language": "python",
   "name": "python3"
  },
  "language_info": {
   "codemirror_mode": {
    "name": "ipython",
    "version": 3
   },
   "file_extension": ".py",
   "mimetype": "text/x-python",
   "name": "python",
   "nbconvert_exporter": "python",
   "pygments_lexer": "ipython3",
   "version": "3.7.3"
  }
 },
 "nbformat": 4,
 "nbformat_minor": 2
}
